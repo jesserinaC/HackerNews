{
 "cells": [
  {
   "cell_type": "markdown",
   "metadata": {},
   "source": [
    "# Analysis on Hacker News Posts"
   ]
  },
  {
   "cell_type": "markdown",
   "metadata": {},
   "source": [
    "In this project, we are going to conduct a quick analysis on the dataset of Hacker News Posts. You can find the dataset [here](https://www.kaggle.com/hacker-news/hacker-news-posts). We are interested in the following questions:\n",
    "\n",
    "1. Do Ask posts or Show posts receive more comments on average?\n",
    "2. Do posts created at a certain time receive more comments on average?\n"
   ]
  },
  {
   "cell_type": "code",
   "execution_count": 8,
   "metadata": {},
   "outputs": [
    {
     "name": "stdout",
     "output_type": "stream",
     "text": [
      "[['12224879', 'Interactive Dynamic Video', 'http://www.interactivedynamicvideo.com/', '386', '52', 'ne0phyte', '8/4/2016 11:52'], ['10975351', 'How to Use Open Source and Shut the Fuck Up at the Same Time', 'http://hueniverse.com/2016/01/26/how-to-use-open-source-and-shut-the-fuck-up-at-the-same-time/', '39', '10', 'josep2', '1/26/2016 19:30'], ['11964716', \"Florida DJs May Face Felony for April Fools' Water Joke\", 'http://www.thewire.com/entertainment/2013/04/florida-djs-april-fools-water-joke/63798/', '2', '1', 'vezycash', '6/23/2016 22:20'], ['11919867', 'Technology ventures: From Idea to Enterprise', 'https://www.amazon.com/Technology-Ventures-Enterprise-Thomas-Byers/dp/0073523429', '3', '1', 'hswarna', '6/17/2016 0:01'], ['10301696', 'Note by Note: The Making of Steinway L1037 (2007)', 'http://www.nytimes.com/2007/11/07/movies/07stein.html?_r=0', '8', '2', 'walterbell', '9/30/2015 4:12']]\n"
     ]
    }
   ],
   "source": [
    "## import the data\n",
    "from csv import reader\n",
    "opened_file=open('C:/Users/jesse/Desktop/New/project/Project 2_Hacker News/hacker_news.csv',encoding=\"utf8\")\n",
    "read_file=reader(opened_file)\n",
    "hn=list(read_file)\n",
    "hn=hn[1:]\n",
    "headers=hn[:5]\n",
    "print(headers)"
   ]
  },
  {
   "cell_type": "code",
   "execution_count": 6,
   "metadata": {},
   "outputs": [
    {
     "name": "stdout",
     "output_type": "stream",
     "text": [
      "1744\n",
      "1162\n",
      "17194\n"
     ]
    },
    {
     "data": {
      "text/plain": [
       "True"
      ]
     },
     "execution_count": 6,
     "metadata": {},
     "output_type": "execute_result"
    }
   ],
   "source": [
    "## Seperate ask hn and show hn into two lists\n",
    "ask_posts=[]\n",
    "show_posts=[]\n",
    "other_posts=[]\n",
    "\n",
    "for each_row in hn:\n",
    "    title=each_row[1]\n",
    "    if title.lower().startswith('ask hn'):\n",
    "        ask_posts.append(each_row)\n",
    "    elif title.lower().startswith('show hn'):\n",
    "        show_posts.append(each_row)\n",
    "    else:\n",
    "        other_posts.append(each_row)\n",
    "\n",
    "print(len(ask_posts))\n",
    "print(len(show_posts))\n",
    "print(len(other_posts))\n",
    "\n",
    "len(ask_posts)+len(show_posts)+len(other_posts)==len(hn)"
   ]
  },
  {
   "cell_type": "code",
   "execution_count": 7,
   "metadata": {},
   "outputs": [
    {
     "name": "stdout",
     "output_type": "stream",
     "text": [
      "[['12296411', 'Ask HN: How to improve my personal website?', '', '2', '6', 'ahmedbaracat', '8/16/2016 9:55'], ['10610020', 'Ask HN: Am I the only one outraged by Twitter shutting down share counts?', '', '28', '29', 'tkfx', '11/22/2015 13:43'], ['11610310', 'Ask HN: Aby recent changes to CSS that broke mobile?', '', '1', '1', 'polskibus', '5/2/2016 10:14'], ['12210105', 'Ask HN: Looking for Employee #3 How do I do it?', '', '1', '3', 'sph130', '8/2/2016 14:20'], ['10394168', 'Ask HN: Someone offered to buy my browser extension from me. What now?', '', '28', '17', 'roykolak', '10/15/2015 16:38']]\n",
      "[['10627194', 'Show HN: Wio Link  ESP8266 Based Web of Things Hardware Development Platform', 'https://iot.seeed.cc', '26', '22', 'kfihihc', '11/25/2015 14:03'], ['10646440', 'Show HN: Something pointless I made', 'http://dn.ht/picklecat/', '747', '102', 'dhotson', '11/29/2015 22:46'], ['11590768', 'Show HN: Shanhu.io, a programming playground powered by e8vm', 'https://shanhu.io', '1', '1', 'h8liu', '4/28/2016 18:05'], ['12178806', 'Show HN: Webscope  Easy way for web developers to communicate with Clients', 'http://webscopeapp.com', '3', '3', 'fastbrick', '7/28/2016 7:11'], ['10872799', 'Show HN: GeoScreenshot  Easily test Geo-IP based web pages', 'https://www.geoscreenshot.com/', '1', '9', 'kpsychwave', '1/9/2016 20:45']]\n"
     ]
    }
   ],
   "source": [
    "print(ask_posts[:5])\n",
    "print(show_posts[:5])"
   ]
  },
  {
   "cell_type": "code",
   "execution_count": 12,
   "metadata": {},
   "outputs": [
    {
     "name": "stdout",
     "output_type": "stream",
     "text": [
      "24483\n",
      "14\n"
     ]
    }
   ],
   "source": [
    "# find total number of comments in ask posts and the average comments of each ask post\n",
    "total_ask_comments=0\n",
    "for each_row in ask_posts:\n",
    "    num_comments=int(each_row[4])\n",
    "    total_ask_comments+=num_comments\n",
    "print(total_ask_comments)\n",
    "avg_ask_comments=int(total_ask_comments/len(ask_posts))\n",
    "print(avg_ask_comments)\n",
    "    "
   ]
  },
  {
   "cell_type": "code",
   "execution_count": 14,
   "metadata": {},
   "outputs": [
    {
     "name": "stdout",
     "output_type": "stream",
     "text": [
      "11988\n",
      "10\n"
     ]
    }
   ],
   "source": [
    "# find total number of comments in show posts and the average comments of each show post\n",
    "total_show_comments=0\n",
    "for each_row in show_posts:\n",
    "    num_comments=int(each_row[4])\n",
    "    total_show_comments+=num_comments\n",
    "print(total_show_comments)\n",
    "avg_show_comments=int(total_show_comments/len(show_posts))\n",
    "print(avg_show_comments)\n"
   ]
  },
  {
   "cell_type": "markdown",
   "metadata": {},
   "source": [
    "As we can see from the results above, ask posts receive more comments than show posts on average. Since ask posts are more likely to receive comments, we'll focus the remaining analysis just on ask posts."
   ]
  },
  {
   "cell_type": "markdown",
   "metadata": {},
   "source": [
    "Next, we'll determine if ask posts created at a certain time are more likely to attract comments.We'll use the following steps to perform this analysis:\n",
    "\n",
    "1. Calculate the amount of ask posts created in each hour of the day, along with the number of comments received.\n",
    "2. Calculate the average number of comments ask posts receive by hour created."
   ]
  },
  {
   "cell_type": "code",
   "execution_count": 20,
   "metadata": {},
   "outputs": [
    {
     "name": "stdout",
     "output_type": "stream",
     "text": [
      "{'09': 45, '13': 85, '10': 59, '14': 107, '16': 108, '23': 68, '12': 73, '17': 100, '15': 116, '21': 109, '20': 80, '02': 58, '18': 109, '03': 54, '05': 46, '19': 110, '01': 60, '22': 71, '08': 48, '04': 47, '00': 55, '06': 44, '07': 34, '11': 58}\n",
      "{'09': 251, '13': 1253, '10': 793, '14': 1416, '16': 1814, '23': 543, '12': 687, '17': 1146, '15': 4477, '21': 1745, '20': 1722, '02': 1381, '18': 1439, '03': 421, '05': 464, '19': 1188, '01': 683, '22': 479, '08': 492, '04': 337, '00': 447, '06': 397, '07': 267, '11': 641}\n"
     ]
    }
   ],
   "source": [
    "# Create result_list includes the create date and number of comments of each ask post.\n",
    "import datetime as dt\n",
    "result_list=[]\n",
    "for each_row in ask_posts:\n",
    "    create_at=each_row[6]\n",
    "    num_comments=int(each_row[4])\n",
    "    result_list.append([create_at,num_comments])\n",
    "\n",
    "# Create two dictionaries, counts_by_hours contains the number of ask posts created during each hour of the day; comments_by_hour contains\n",
    "# the number of comments ask posts created at each hour received.\n",
    "\n",
    "counts_by_hour={}\n",
    "comments_by_hour={}\n",
    "\n",
    "for each_row in result_list:\n",
    "    dt_object=dt.datetime.strptime(each_row[0],\"%m/%d/%Y %H:%M\")  \n",
    "    hour=dt_object.strftime(\"%H\") #take out the hour\n",
    "    if hour not in counts_by_hour:\n",
    "        counts_by_hour[hour]=1\n",
    "        comments_by_hour[hour]=each_row[1]\n",
    "    else:\n",
    "        counts_by_hour[hour]+=1\n",
    "        comments_by_hour[hour]+=each_row[1]\n",
    "print(counts_by_hour)\n",
    "print(comments_by_hour)\n",
    "      "
   ]
  },
  {
   "cell_type": "markdown",
   "metadata": {},
   "source": [
    "Next, we'll use these two dictionaries to calculate the average number of comments for posts created during each hour of the day."
   ]
  },
  {
   "cell_type": "code",
   "execution_count": 22,
   "metadata": {},
   "outputs": [
    {
     "name": "stdout",
     "output_type": "stream",
     "text": [
      "[['09', 5.5777777777777775], ['13', 14.741176470588234], ['10', 13.440677966101696], ['14', 13.233644859813085], ['16', 16.796296296296298], ['23', 7.985294117647059], ['12', 9.41095890410959], ['17', 11.46], ['15', 38.5948275862069], ['21', 16.009174311926607], ['20', 21.525], ['02', 23.810344827586206], ['18', 13.20183486238532], ['03', 7.796296296296297], ['05', 10.08695652173913], ['19', 10.8], ['01', 11.383333333333333], ['22', 6.746478873239437], ['08', 10.25], ['04', 7.170212765957447], ['00', 8.127272727272727], ['06', 9.022727272727273], ['07', 7.852941176470588], ['11', 11.051724137931034]]\n"
     ]
    }
   ],
   "source": [
    "avg_by_hour=[]\n",
    "for hour in comments_by_hour:\n",
    "    avg_by_hour.append([hour,comments_by_hour[hour]/counts_by_hour[hour]])\n",
    "print(avg_by_hour)"
   ]
  },
  {
   "cell_type": "code",
   "execution_count": 25,
   "metadata": {},
   "outputs": [
    {
     "name": "stdout",
     "output_type": "stream",
     "text": [
      "[[5.5777777777777775, '09'], [14.741176470588234, '13'], [13.440677966101696, '10'], [13.233644859813085, '14'], [16.796296296296298, '16'], [7.985294117647059, '23'], [9.41095890410959, '12'], [11.46, '17'], [38.5948275862069, '15'], [16.009174311926607, '21'], [21.525, '20'], [23.810344827586206, '02'], [13.20183486238532, '18'], [7.796296296296297, '03'], [10.08695652173913, '05'], [10.8, '19'], [11.383333333333333, '01'], [6.746478873239437, '22'], [10.25, '08'], [7.170212765957447, '04'], [8.127272727272727, '00'], [9.022727272727273, '06'], [7.852941176470588, '07'], [11.051724137931034, '11']]\n",
      "Top 5 Hours for Ask Posts Comments\n",
      "[[38.5948275862069, '15'], [23.810344827586206, '02'], [21.525, '20'], [16.796296296296298, '16'], [16.009174311926607, '21']]\n"
     ]
    }
   ],
   "source": [
    "# Sort the list\n",
    "avg_by_hour_swap=[]\n",
    "for each_row in avg_by_hour:\n",
    "    avg_by_hour_swap.append([each_row[1],each_row[0]])\n",
    "print(avg_by_hour_swap)\n",
    "\n",
    "sorted_swap=sorted(avg_by_hour_swap,key=None,reverse=True) # we want to sort the list by the number of comments \n",
    "\n",
    "# Print the Top 5 Hours for Ask Posts Comments\n",
    "\n",
    "print(\"Top 5 Hours for Ask Posts Comments\")\n",
    "print(sorted_swap[:5])"
   ]
  },
  {
   "cell_type": "markdown",
   "metadata": {},
   "source": [
    "Since this is not very intuitive when we look at these numbers, we will change it to a more user-friendly format."
   ]
  },
  {
   "cell_type": "code",
   "execution_count": 28,
   "metadata": {},
   "outputs": [
    {
     "name": "stdout",
     "output_type": "stream",
     "text": [
      "15:00:38.59 average comments per post\n",
      "02:00:23.81 average comments per post\n",
      "20:00:21.52 average comments per post\n",
      "16:00:16.80 average comments per post\n",
      "21:00:16.01 average comments per post\n",
      "13:00:14.74 average comments per post\n",
      "10:00:13.44 average comments per post\n",
      "14:00:13.23 average comments per post\n",
      "18:00:13.20 average comments per post\n",
      "17:00:11.46 average comments per post\n",
      "01:00:11.38 average comments per post\n",
      "11:00:11.05 average comments per post\n",
      "19:00:10.80 average comments per post\n",
      "08:00:10.25 average comments per post\n",
      "05:00:10.09 average comments per post\n",
      "12:00:9.41 average comments per post\n",
      "06:00:9.02 average comments per post\n",
      "00:00:8.13 average comments per post\n",
      "23:00:7.99 average comments per post\n",
      "07:00:7.85 average comments per post\n",
      "03:00:7.80 average comments per post\n",
      "04:00:7.17 average comments per post\n",
      "22:00:6.75 average comments per post\n",
      "09:00:5.58 average comments per post\n"
     ]
    }
   ],
   "source": [
    "for each_row in sorted_swap:\n",
    "    dt_hour=dt.datetime.strptime(each_row[1],\"%H\")\n",
    "    # To format the hours, use the datetime.strptime() constructor to return a datetime object \n",
    "    hour_format=dt_hour.strftime(\"%H:%M\")\n",
    "    # Use the strftime() method to specify the format of the time\n",
    "    string=\"{}:{:.2f} average comments per post\".format(hour_format,each_row[0]) \n",
    "    # You can use {:.2f} to indicate that just two decimal places should be used\n",
    "    print(string)"
   ]
  },
  {
   "cell_type": "markdown",
   "metadata": {},
   "source": [
    "On average, ask posts post at 15:00 receive the highest number of comments."
   ]
  },
  {
   "cell_type": "markdown",
   "metadata": {},
   "source": [
    "# Conclusion"
   ]
  },
  {
   "cell_type": "markdown",
   "metadata": {},
   "source": [
    "Ask posts usually receive greater number of comments than show posts in Hacker News. If you post an ask post at 15:00, your post is likely to receive more comments."
   ]
  }
 ],
 "metadata": {
  "kernelspec": {
   "display_name": "Python 3",
   "language": "python",
   "name": "python3"
  },
  "language_info": {
   "codemirror_mode": {
    "name": "ipython",
    "version": 3
   },
   "file_extension": ".py",
   "mimetype": "text/x-python",
   "name": "python",
   "nbconvert_exporter": "python",
   "pygments_lexer": "ipython3",
   "version": "3.7.4"
  }
 },
 "nbformat": 4,
 "nbformat_minor": 4
}
